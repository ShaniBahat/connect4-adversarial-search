{
  "cells": [
    {
      "cell_type": "code",
      "execution_count": null,
      "metadata": {
        "id": "eaCXU8XY4g03"
      },
      "outputs": [],
      "source": [
        "import numpy as np\n",
        "import time\n",
        "import math"
      ]
    },
    {
      "cell_type": "markdown",
      "metadata": {
        "id": "DNynaz8e0KY2"
      },
      "source": [
        "# Connect Four With Best First Minimax\n"
      ]
    },
    {
      "cell_type": "markdown",
      "metadata": {
        "id": "3C2rkxZSZ0eM"
      },
      "source": [
        "### Code"
      ]
    },
    {
      "cell_type": "code",
      "execution_count": null,
      "metadata": {
        "id": "AXFSTqX3V0sY"
      },
      "outputs": [],
      "source": [
        "# Constants\n",
        "ROW_COUNT = 6\n",
        "COLUMN_COUNT = 7\n",
        "PLAYER_1 = 1  # Max player\n",
        "PLAYER_2 = -1  # Min player\n",
        "EMPTY = 0\n",
        "\n",
        "# Global node counter\n",
        "nodes_explored = 0\n",
        "\n",
        "# Create the Connect Four board\n",
        "def create_board():\n",
        "    return np.zeros((ROW_COUNT, COLUMN_COUNT))\n",
        "\n",
        "# Drop a piece into the board\n",
        "def drop_piece(board, row, col, piece):\n",
        "    board[row][col] = piece\n",
        "\n",
        "# Check if a column is valid for a move\n",
        "def is_valid_location(board, col):\n",
        "    return board[ROW_COUNT-1][col] == 0\n",
        "\n",
        "# Get the next open row in a column\n",
        "def get_next_open_row(board, col):\n",
        "    for r in range(ROW_COUNT):\n",
        "        if board[r][col] == 0:\n",
        "            return r\n",
        "\n",
        "# Print the board (flipped to see from the bottom)\n",
        "def print_board(board):\n",
        "    print(np.flip(board, 0))\n",
        "\n",
        "# Check if the board is full\n",
        "def is_full(board):\n",
        "    return all(board[ROW_COUNT-1][c] != 0 for c in range(COLUMN_COUNT))\n",
        "\n",
        "# Check if there is a winning move\n",
        "def winning_move(board, piece):\n",
        "    # Check horizontal locations for win\n",
        "    for c in range(COLUMN_COUNT-3):\n",
        "        for r in range(ROW_COUNT):\n",
        "            if board[r][c] == piece and board[r][c+1] == piece and board[r][c+2] == piece and board[r][c+3] == piece:\n",
        "                return True\n",
        "\n",
        "    # Check vertical locations for win\n",
        "    for c in range(COLUMN_COUNT):\n",
        "        for r in range(ROW_COUNT-3):\n",
        "            if board[r][c] == piece and board[r+1][c] == piece and board[r+2][c] == piece and board[r+3][c] == piece:\n",
        "                return True\n",
        "\n",
        "    # Check positively sloped diagonals\n",
        "    for c in range(COLUMN_COUNT-3):\n",
        "        for r in range(ROW_COUNT-3):\n",
        "            if board[r][c] == piece and board[r+1][c+1] == piece and board[r+2][c+2] == piece and board[r+3][c+3] == piece:\n",
        "                return True\n",
        "\n",
        "    # Check negatively sloped diagonals\n",
        "    for c in range(COLUMN_COUNT-3):\n",
        "        for r in range(3, ROW_COUNT):\n",
        "            if board[r][c] == piece and board[r-1][c+1] == piece and board[r-2][c+2] == piece and board[r-3][c+3] == piece:\n",
        "                return True\n",
        "\n",
        "    return False\n",
        "\n",
        "# Evaluate the board\n",
        "def evaluate_window(window, piece):\n",
        "    score = 0\n",
        "    opp_piece = PLAYER_1 if piece == PLAYER_2 else PLAYER_2\n",
        "\n",
        "    if window.count(piece) == 4:\n",
        "        score += 100\n",
        "    elif window.count(piece) == 3 and window.count(EMPTY) == 1:\n",
        "        score += 5\n",
        "    elif window.count(piece) == 2 and window.count(EMPTY) == 2:\n",
        "        score += 2\n",
        "\n",
        "    if window.count(opp_piece) == 3 and window.count(EMPTY) == 1:\n",
        "        score -= 4\n",
        "\n",
        "    return score\n",
        "\n",
        "def score_position(board, piece):\n",
        "    score = 0\n",
        "\n",
        "    # Score center column\n",
        "    center_array = [int(i) for i in list(board[:, COLUMN_COUNT//2])]\n",
        "    center_count = center_array.count(piece)\n",
        "    score += center_count * 3\n",
        "\n",
        "    # Score Horizontal\n",
        "    for r in range(ROW_COUNT):\n",
        "        row_array = [int(i) for i in list(board[r,:])]\n",
        "        for c in range(COLUMN_COUNT-3):\n",
        "            window = row_array[c:c+4]\n",
        "            score += evaluate_window(window, piece)\n",
        "\n",
        "    # Score Vertical\n",
        "    for c in range(COLUMN_COUNT):\n",
        "        col_array = [int(i) for i in list(board[:,c])]\n",
        "        for r in range(ROW_COUNT-3):\n",
        "            window = col_array[r:r+4]\n",
        "            score += evaluate_window(window, piece)\n",
        "\n",
        "    # Score positively sloped diagonal\n",
        "    for r in range(ROW_COUNT-3):\n",
        "        for c in range(COLUMN_COUNT-3):\n",
        "            window = [board[r+i][c+i] for i in range(4)]\n",
        "            score += evaluate_window(window, piece)\n",
        "\n",
        "    # Score negatively sloped diagonal\n",
        "    for r in range(ROW_COUNT-3):\n",
        "        for c in range(COLUMN_COUNT-3):\n",
        "            window = [board[r+3-i][c+i] for i in range(4)]\n",
        "            score += evaluate_window(window, piece)\n",
        "\n",
        "    return score"
      ]
    },
    {
      "cell_type": "code",
      "execution_count": null,
      "metadata": {
        "id": "HDaOShU3XWmE"
      },
      "outputs": [],
      "source": [
        "# Minimax algorithm\n",
        "def minimax(board, depth, maximizingPlayer):\n",
        "    global nodes_explored\n",
        "    nodes_explored += 1\n",
        "\n",
        "    valid_locations = [c for c in range(COLUMN_COUNT) if is_valid_location(board, c)]\n",
        "    is_terminal = winning_move(board, PLAYER_1) or winning_move(board, PLAYER_2) or is_full(board)\n",
        "\n",
        "    if depth == 0 or is_terminal:\n",
        "        if is_terminal:\n",
        "            if winning_move(board, PLAYER_1):\n",
        "                return None, 100000000000000\n",
        "            elif winning_move(board, PLAYER_2):\n",
        "                return None, -10000000000000\n",
        "            else:  # Game is over, no more valid moves\n",
        "                return None, 0\n",
        "        else:  # Depth is zero\n",
        "            return None, score_position(board, PLAYER_1)\n",
        "    if maximizingPlayer:\n",
        "        value = -np.inf\n",
        "        column = np.random.choice(valid_locations)\n",
        "        for col in valid_locations:\n",
        "            row = get_next_open_row(board, col)\n",
        "            b_copy = board.copy()\n",
        "            drop_piece(b_copy, row, col, PLAYER_1)\n",
        "            new_score = minimax(b_copy, depth-1, False)[1]\n",
        "            if new_score > value:\n",
        "                value = new_score\n",
        "                column = col\n",
        "        return column, value\n",
        "\n",
        "    else:  # Minimizing player\n",
        "        value = np.inf\n",
        "        column = np.random.choice(valid_locations)\n",
        "        for col in valid_locations:\n",
        "            row = get_next_open_row(board, col)\n",
        "            b_copy = board.copy()\n",
        "            drop_piece(b_copy, row, col, PLAYER_2)\n",
        "            new_score = minimax(b_copy, depth-1, True)[1]\n",
        "            if new_score < value:\n",
        "                value = new_score\n",
        "                column = col\n",
        "        return column, value"
      ]
    },
    {
      "cell_type": "code",
      "execution_count": null,
      "metadata": {
        "id": "DpdZH-H0Xd5_"
      },
      "outputs": [],
      "source": [
        "# Minimax with Alpha-Beta Pruning\n",
        "def minimax_alpha_beta(board, depth, alpha, beta, maximizingPlayer):\n",
        "    global nodes_explored\n",
        "    nodes_explored += 1\n",
        "\n",
        "    valid_locations = [c for c in range(COLUMN_COUNT) if is_valid_location(board, c)]\n",
        "    is_terminal = winning_move(board, PLAYER_1) or winning_move(board, PLAYER_2) or is_full(board)\n",
        "\n",
        "    if depth == 0 or is_terminal:\n",
        "        if is_terminal:\n",
        "            if winning_move(board, PLAYER_1):\n",
        "                return None, 100000000000000\n",
        "            elif winning_move(board, PLAYER_2):\n",
        "                return None, -10000000000000\n",
        "            else:  # Game is over, no more valid moves\n",
        "                return None, 0\n",
        "        else:  # Depth is zero\n",
        "            return None, score_position(board, PLAYER_1)\n",
        "    if maximizingPlayer:\n",
        "        value = -np.inf\n",
        "        column = np.random.choice(valid_locations)\n",
        "        for col in valid_locations:\n",
        "            row = get_next_open_row(board, col)\n",
        "            b_copy = board.copy()\n",
        "            drop_piece(b_copy, row, col, PLAYER_1)\n",
        "            new_score = minimax_alpha_beta(b_copy, depth-1, alpha, beta, False)[1]\n",
        "            if new_score > value:\n",
        "                value = new_score\n",
        "                column = col\n",
        "            alpha = max(alpha, value)\n",
        "            if alpha >= beta:\n",
        "                break\n",
        "        return column, value\n",
        "\n",
        "    else:  # Minimizing player\n",
        "        value = np.inf\n",
        "        column = np.random.choice(valid_locations)\n",
        "        for col in valid_locations:\n",
        "            row = get_next_open_row(board, col)\n",
        "            b_copy = board.copy()\n",
        "            drop_piece(b_copy, row, col, PLAYER_2)\n",
        "            new_score = minimax_alpha_beta(b_copy, depth-1, alpha, beta, True)[1]\n",
        "            if new_score < value:\n",
        "                value = new_score\n",
        "                column = col\n",
        "            beta = min(beta, value)\n",
        "            if alpha >= beta:\n",
        "                break\n",
        "        return column, value"
      ]
    },
    {
      "cell_type": "code",
      "execution_count": null,
      "metadata": {
        "id": "iQ49mA4tXjTM"
      },
      "outputs": [],
      "source": [
        "# Best-First Minimax Search with Depth Limit\n",
        "def best_first_minimax(board, depth, alpha, beta, maximizingPlayer):\n",
        "    global nodes_explored\n",
        "    nodes_explored += 1\n",
        "\n",
        "    valid_locations = [c for c in range(COLUMN_COUNT) if is_valid_location(board, c)]\n",
        "    is_terminal = winning_move(board, PLAYER_1) or winning_move(board, PLAYER_2) or is_full(board)\n",
        "\n",
        "    if depth == 0 or is_terminal:\n",
        "        if is_terminal:\n",
        "            if winning_move(board, PLAYER_1):\n",
        "                return None, 100000000000000\n",
        "            elif winning_move(board, PLAYER_2):\n",
        "                return None, -10000000000000\n",
        "            else:  # Game is over, no more valid moves\n",
        "                return None, 0\n",
        "        else:  # Depth is zero\n",
        "            return None, score_position(board, PLAYER_1)\n",
        "\n",
        "    best_value = -np.inf if maximizingPlayer else np.inf\n",
        "    best_column = None\n",
        "    children_scores = []\n",
        "\n",
        "    for col in valid_locations:\n",
        "        row = get_next_open_row(board, col)\n",
        "        b_copy = board.copy()\n",
        "        drop_piece(b_copy, row, col, PLAYER_1 if maximizingPlayer else PLAYER_2)\n",
        "        score = score_position(b_copy, PLAYER_1)\n",
        "        children_scores.append((col, score))\n",
        "\n",
        "    # Sort children by score (Best First)\n",
        "    children_scores.sort(key=lambda x: x[1], reverse=maximizingPlayer)\n",
        "\n",
        "    for col, _ in children_scores:\n",
        "        row = get_next_open_row(board, col)\n",
        "        b_copy = board.copy()\n",
        "        drop_piece(b_copy, row, col, PLAYER_1 if maximizingPlayer else PLAYER_2)\n",
        "        _, value = best_first_minimax(b_copy, depth-1, alpha, beta, not maximizingPlayer)\n",
        "        if maximizingPlayer:\n",
        "            if value > best_value:\n",
        "                best_value = value\n",
        "                best_column = col\n",
        "            alpha = max(alpha, best_value)\n",
        "        else:\n",
        "            if value < best_value:\n",
        "                best_value = value\n",
        "                best_column = col\n",
        "            beta = min(beta, best_value)\n",
        "        if alpha >= beta:\n",
        "            break\n",
        "\n",
        "    return best_column, best_value"
      ]
    },
    {
      "cell_type": "code",
      "execution_count": null,
      "metadata": {
        "id": "aebaDhchXofT"
      },
      "outputs": [],
      "source": [
        "# Function to compare the algorithms\n",
        "def compare_algorithms(depth):\n",
        "    global nodes_explored\n",
        "    board = create_board()\n",
        "\n",
        "    # Minimax\n",
        "    start_time = time.time()\n",
        "    nodes_explored = 0\n",
        "    col, score = minimax(board, depth, True)\n",
        "    end_time = time.time()\n",
        "    print(f\"***********Minimax***********\\n \\nColumn {col}, Score {score}\\nNodes explored: {nodes_explored}\\nTime {end_time - start_time:.4f} seconds\\n\\n\")\n",
        "\n",
        "    # Alpha-Beta Pruning\n",
        "    start_time = time.time()\n",
        "    nodes_explored = 0\n",
        "    col, score = minimax_alpha_beta(board, depth, -np.inf, np.inf, True)\n",
        "    end_time = time.time()\n",
        "    print(f\"*****Alpha-Beta Pruning*****\\n \\nColumn {col}, Score {score}\\nNodes explored: {nodes_explored}\\nTime {end_time - start_time:.4f} seconds\\n\\n\")\n",
        "\n",
        "    # Best-First Minimax\n",
        "    start_time = time.time()\n",
        "    nodes_explored = 0\n",
        "    col, score = best_first_minimax(board, depth, -np.inf, np.inf, True)\n",
        "    end_time = time.time()\n",
        "    print(f\"*****Best-First Minimax*****\\n \\nColumn {col}, Score {score}\\nNodes explored: {nodes_explored}\\nTime {end_time - start_time:.4f} seconds\\n\\n\")\n"
      ]
    },
    {
      "cell_type": "code",
      "execution_count": null,
      "metadata": {
        "id": "mZJ0iywJQxx-"
      },
      "outputs": [],
      "source": [
        "# Function to compare the algorithms\n",
        "def compare_alpha_beta_bfsmm(depth):\n",
        "    global nodes_explored\n",
        "    board = create_board()\n",
        "\n",
        "    # Alpha-Beta Pruning\n",
        "    start_time = time.time()\n",
        "    nodes_explored = 0\n",
        "    col, score = minimax_alpha_beta(board, depth, -np.inf, np.inf, True)\n",
        "    end_time = time.time()\n",
        "    print(f\"*****Alpha-Beta Pruning*****\\n \\nColumn {col}, Score {score}\\nNodes explored: {nodes_explored}\\nTime {end_time - start_time:.4f} seconds\\n\\n\")\n",
        "\n",
        "    # Best-First Minimax\n",
        "    start_time = time.time()\n",
        "    nodes_explored = 0\n",
        "    col, score = best_first_minimax(board, depth, -np.inf, np.inf, True)\n",
        "    end_time = time.time()\n",
        "    print(f\"*****Best-First Minimax*****\\n \\nColumn {col}, Score {score}\\nNodes explored: {nodes_explored}\\nTime {end_time - start_time:.4f} seconds\\n\\n\")"
      ]
    },
    {
      "cell_type": "markdown",
      "metadata": {
        "id": "NImFofy4Z64k"
      },
      "source": [
        "### Results"
      ]
    },
    {
      "cell_type": "code",
      "execution_count": null,
      "metadata": {
        "colab": {
          "base_uri": "https://localhost:8080/"
        },
        "id": "esqJASSnXsQu",
        "outputId": "a2f8bd6f-61f0-404d-b1b1-00c783cacc99"
      },
      "outputs": [
        {
          "name": "stdout",
          "output_type": "stream",
          "text": [
            "***********Minimax***********\n",
            " \n",
            "Column 3, Score 6\n",
            "Nodes explored: 2801\n",
            "Time 0.6758 seconds\n",
            "\n",
            "\n",
            "*****Alpha-Beta Pruning*****\n",
            " \n",
            "Column 3, Score 6\n",
            "Nodes explored: 419\n",
            "Time 0.0942 seconds\n",
            "\n",
            "\n",
            "*****Best-First Minimax*****\n",
            " \n",
            "Column 3, Score 6\n",
            "Nodes explored: 201\n",
            "Time 0.1592 seconds\n",
            "\n",
            "\n"
          ]
        }
      ],
      "source": [
        "compare_algorithms(4)"
      ]
    },
    {
      "cell_type": "code",
      "execution_count": null,
      "metadata": {
        "colab": {
          "base_uri": "https://localhost:8080/"
        },
        "id": "Emm-mqKMWy3W",
        "outputId": "f76f79fa-fc37-4dc1-f845-58eb85e7586c"
      },
      "outputs": [
        {
          "name": "stdout",
          "output_type": "stream",
          "text": [
            "***********Minimax***********\n",
            " \n",
            "Column 3, Score 12\n",
            "Nodes explored: 19608\n",
            "Time 5.8045 seconds\n",
            "\n",
            "\n",
            "*****Alpha-Beta Pruning*****\n",
            " \n",
            "Column 3, Score 12\n",
            "Nodes explored: 2988\n",
            "Time 0.6460 seconds\n",
            "\n",
            "\n",
            "*****Best-First Minimax*****\n",
            " \n",
            "Column 3, Score 12\n",
            "Nodes explored: 690\n",
            "Time 0.4188 seconds\n",
            "\n",
            "\n"
          ]
        }
      ],
      "source": [
        "compare_algorithms(5)"
      ]
    },
    {
      "cell_type": "code",
      "execution_count": null,
      "metadata": {
        "colab": {
          "base_uri": "https://localhost:8080/"
        },
        "id": "VCNCO154W2ry",
        "outputId": "ad93086c-fa10-45c4-ca80-20cd0e5eaf27"
      },
      "outputs": [
        {
          "name": "stdout",
          "output_type": "stream",
          "text": [
            "***********Minimax***********\n",
            " \n",
            "Column 3, Score 9\n",
            "Nodes explored: 137257\n",
            "Time 39.3778 seconds\n",
            "\n",
            "\n",
            "*****Alpha-Beta Pruning*****\n",
            " \n",
            "Column 3, Score 9\n",
            "Nodes explored: 9624\n",
            "Time 2.0168 seconds\n",
            "\n",
            "\n",
            "*****Best-First Minimax*****\n",
            " \n",
            "Column 3, Score 9\n",
            "Nodes explored: 1710\n",
            "Time 1.4038 seconds\n",
            "\n",
            "\n"
          ]
        }
      ],
      "source": [
        "compare_algorithms(6)"
      ]
    },
    {
      "cell_type": "code",
      "execution_count": null,
      "metadata": {
        "colab": {
          "base_uri": "https://localhost:8080/"
        },
        "id": "DcAdLdi_W8na",
        "outputId": "c75b39ae-0159-4e12-f9da-242aecb973fe"
      },
      "outputs": [
        {
          "name": "stdout",
          "output_type": "stream",
          "text": [
            "***********Minimax***********\n",
            " \n",
            "Column 3, Score 15\n",
            "Nodes explored: 960793\n",
            "Time 258.0052 seconds\n",
            "\n",
            "\n",
            "*****Alpha-Beta Pruning*****\n",
            " \n",
            "Column 3, Score 15\n",
            "Nodes explored: 46345\n",
            "Time 11.3547 seconds\n",
            "\n",
            "\n",
            "*****Best-First Minimax*****\n",
            " \n",
            "Column 3, Score 15\n",
            "Nodes explored: 7755\n",
            "Time 5.0412 seconds\n",
            "\n",
            "\n"
          ]
        }
      ],
      "source": [
        "compare_algorithms(7)"
      ]
    },
    {
      "cell_type": "code",
      "execution_count": null,
      "metadata": {
        "colab": {
          "base_uri": "https://localhost:8080/"
        },
        "id": "B4dog-HgZdO5",
        "outputId": "3470199d-04ea-4b25-bd05-32ceadecc8b0"
      },
      "outputs": [
        {
          "name": "stdout",
          "output_type": "stream",
          "text": [
            "***********Minimax***********\n",
            " \n",
            "Column 3, Score 12\n",
            "Nodes explored: 6634027\n",
            "Time 1708.7189 seconds\n",
            "\n",
            "\n",
            "*****Alpha-Beta Pruning*****\n",
            " \n",
            "Column 3, Score 12\n",
            "Nodes explored: 149614\n",
            "Time 33.5958 seconds\n",
            "\n",
            "\n",
            "*****Best-First Minimax*****\n",
            " \n",
            "Column 3, Score 12\n",
            "Nodes explored: 12585\n",
            "Time 11.1994 seconds\n",
            "\n",
            "\n"
          ]
        }
      ],
      "source": [
        "compare_algorithms(8)"
      ]
    },
    {
      "cell_type": "code",
      "execution_count": null,
      "metadata": {
        "colab": {
          "background_save": true
        },
        "id": "eLKK8QlkhbXP",
        "outputId": "b6e1ec90-de65-4102-b61d-da6b340d5cc6"
      },
      "outputs": [
        {
          "name": "stdout",
          "output_type": "stream",
          "text": [
            "***********Minimax***********\n",
            " \n",
            "Column 3, Score 18\n",
            "Nodes explored: 46028599\n",
            "Time 11806.8168 seconds\n",
            "\n",
            "\n",
            "*****Alpha-Beta Pruning*****\n",
            " \n",
            "Column 3, Score 18\n",
            "Nodes explored: 726793\n",
            "Time 169.8235 seconds\n",
            "\n",
            "\n",
            "*****Best-First Minimax*****\n",
            " \n",
            "Column 3, Score 18\n",
            "Nodes explored: 56207\n",
            "Time 38.9424 seconds\n",
            "\n",
            "\n"
          ]
        }
      ],
      "source": [
        "compare_algorithms(9)"
      ]
    },
    {
      "cell_type": "code",
      "execution_count": null,
      "metadata": {
        "colab": {
          "base_uri": "https://localhost:8080/"
        },
        "id": "rUmPHyjHRJTX",
        "outputId": "ed3a8d44-f456-4df6-aafb-13d988201f1b"
      },
      "outputs": [
        {
          "name": "stdout",
          "output_type": "stream",
          "text": [
            "*****Alpha-Beta Pruning*****\n",
            " \n",
            "Column 3, Score 15\n",
            "Nodes explored: 1917360\n",
            "Time 438.3068 seconds\n",
            "\n",
            "\n",
            "*****Best-First Minimax*****\n",
            " \n",
            "Column 3, Score 15\n",
            "Nodes explored: 85945\n",
            "Time 80.9725 seconds\n",
            "\n",
            "\n"
          ]
        }
      ],
      "source": [
        "compare_alpha_beta_bfsmm(10)"
      ]
    },
    {
      "cell_type": "code",
      "execution_count": null,
      "metadata": {
        "colab": {
          "base_uri": "https://localhost:8080/"
        },
        "id": "8eBq0xXcRPXq",
        "outputId": "289a0396-c15e-44d7-b40f-dac8ff418ba0"
      },
      "outputs": [
        {
          "name": "stdout",
          "output_type": "stream",
          "text": [
            "*****Alpha-Beta Pruning*****\n",
            " \n",
            "Column 3, Score 21\n",
            "Nodes explored: 10968512\n",
            "Time 2612.3732 seconds\n",
            "\n",
            "\n",
            "*****Best-First Minimax*****\n",
            " \n",
            "Column 3, Score 21\n",
            "Nodes explored: 398191\n",
            "Time 279.0024 seconds\n",
            "\n",
            "\n"
          ]
        }
      ],
      "source": [
        "compare_alpha_beta_bfsmm(11)"
      ]
    },
    {
      "cell_type": "code",
      "execution_count": null,
      "metadata": {
        "colab": {
          "base_uri": "https://localhost:8080/"
        },
        "id": "Ab5aXrMLRSRb",
        "outputId": "527c0a0a-6bed-4926-ffb7-da0d6a0ab57e"
      },
      "outputs": [
        {
          "name": "stdout",
          "output_type": "stream",
          "text": [
            "*****Alpha-Beta Pruning*****\n",
            " \n",
            "Column 3, Score 14\n",
            "Nodes explored: 31849428\n",
            "Time 7129.1818 seconds\n",
            "\n",
            "\n",
            "*****Best-First Minimax*****\n",
            " \n",
            "Column 3, Score 14\n",
            "Nodes explored: 975894\n",
            "Time 913.4687 seconds\n",
            "\n",
            "\n"
          ]
        }
      ],
      "source": [
        "compare_alpha_beta_bfsmm(12)"
      ]
    },
    {
      "cell_type": "markdown",
      "metadata": {
        "id": "vYS3LGGztR9n"
      },
      "source": [
        "### Graphs"
      ]
    },
    {
      "cell_type": "code",
      "execution_count": null,
      "metadata": {
        "colab": {
          "base_uri": "https://localhost:8080/",
          "height": 1000
        },
        "id": "iHvkJUkuHTnV",
        "outputId": "2b2c621a-c26c-4859-9cb7-4ef5f1297489"
      },
      "outputs": [
        {
          "data": {
            "image/png": "[encoded data removed]",
            "text/plain": [
              "<Figure size 1000x600 with 1 Axes>"
            ]
          },
          "metadata": {},
          "output_type": "display_data"
        },
        {
          "data": {
            "image/png": "[encoded data removed]",
            "text/plain": [
              "<Figure size 1000x600 with 1 Axes>"
            ]
          },
          "metadata": {},
          "output_type": "display_data"
        }
      ],
      "source": [
        "import matplotlib.pyplot as plt\n",
        "\n",
        "# Data for the depths\n",
        "depths = [4, 5, 6, 7, 8, 9, 10, 11, 12]\n",
        "\n",
        "# Data for Alpha-Beta Pruning\n",
        "alpha_beta_nodes = [419, 2988, 9624, 46345, 149614, 726793, 1917360, 10968512, 31849428]\n",
        "alpha_beta_time = [0.0942, 0.6460, 2.0168, 11.3547, 33.5958, 169.8235, 438.3068, 2612.3732, 7129.1818]\n",
        "\n",
        "# Data for Best-First Minimax\n",
        "best_first_nodes = [201, 690, 1710, 7755, 12585, 56207, 85945, 398191, 975894]\n",
        "best_first_time = [0.1592, 0.4188, 1.4038, 5.0412, 11.1994, 38.9424, 80.9725, 279.0024, 913.4687]\n",
        "\n",
        "# Plotting Nodes Expanded vs. Depth\n",
        "plt.figure(figsize=(10, 6))\n",
        "plt.plot(depths, alpha_beta_nodes, 'o-', label='Alpha-Beta Pruning', color='#7180bd')\n",
        "plt.plot(depths, best_first_nodes, 'o-', label='Best-First Minimax', color='#4f9e8d')\n",
        "\n",
        "plt.yscale('log')  # Log scale for nodes\n",
        "plt.xlabel('Search Depth')\n",
        "plt.ylabel('Nodes Expanded')\n",
        "plt.title('Nodes Expanded as a Function of Search Depth')\n",
        "plt.legend()\n",
        "plt.grid(True)\n",
        "plt.show()\n",
        "\n",
        "# Plotting Time Taken vs. Depth\n",
        "plt.figure(figsize=(10, 6))\n",
        "plt.plot(depths, alpha_beta_time, 'o-', label='Alpha-Beta Pruning', color='#7180bd')\n",
        "plt.plot(depths, best_first_time, 'o-', label='Best-First Minimax', color='#4f9e8d')\n",
        "\n",
        "plt.yscale('log')  # Log scale for time\n",
        "plt.xlabel('Search Depth')\n",
        "plt.ylabel('Time Taken (seconds)')\n",
        "plt.title('Time Taken as a Function of Search Depth')\n",
        "plt.legend()\n",
        "plt.grid(True)\n",
        "plt.show()\n",
        "\n"
      ]
    },
    {
      "cell_type": "markdown",
      "metadata": {
        "id": "1bzbz6RctaUz"
      },
      "source": [
        "# Old"
      ]
    },
    {
      "cell_type": "markdown",
      "metadata": {
        "id": "o904JejxDIaI"
      },
      "source": [
        "## Tic-Tac-Toe"
      ]
    },
    {
      "cell_type": "code",
      "execution_count": null,
      "metadata": {
        "id": "5_a_5xdSB5Fc"
      },
      "outputs": [],
      "source": [
        "# Constants\n",
        "PLAYER_X = \"X\"\n",
        "PLAYER_O = \"O\"\n",
        "EMPTY = \" \"\n",
        "NODES_EXPANDED_MM = 0\n",
        "NODES_EXPANDED_AB = 0\n",
        "\n",
        "# Tic-Tac-Toe board\n",
        "def create_board():\n",
        "    return [EMPTY] * 9\n",
        "\n",
        "def print_board(board):\n",
        "    print(f\"{board[0]} | {board[1]} | {board[2]}\")\n",
        "    print(\"--+---+--\")\n",
        "    print(f\"{board[3]} | {board[4]} | {board[5]}\")\n",
        "    print(\"--+---+--\")\n",
        "    print(f\"{board[6]} | {board[7]} | {board[8]}\")\n",
        "\n",
        "def is_winner(board, player):\n",
        "    winning_combinations = [\n",
        "        (0, 1, 2), (3, 4, 5), (6, 7, 8),  # Rows\n",
        "        (0, 3, 6), (1, 4, 7), (2, 5, 8),  # Columns\n",
        "        (0, 4, 8), (2, 4, 6)              # Diagonals\n",
        "    ]\n",
        "    for combo in winning_combinations:\n",
        "        if all(board[i] == player for i in combo):\n",
        "            return True\n",
        "    return False\n",
        "\n",
        "def is_full(board):\n",
        "    return EMPTY not in board\n",
        "\n",
        "def evaluate(board):\n",
        "    if is_winner(board, PLAYER_X):\n",
        "        return 1\n",
        "    elif is_winner(board, PLAYER_O):\n",
        "        return -1\n",
        "    else:\n",
        "        return 0"
      ]
    },
    {
      "cell_type": "code",
      "execution_count": null,
      "metadata": {
        "id": "IM_WehraC9ye"
      },
      "outputs": [],
      "source": [
        "# Regular Minimax (explores entire tree)\n",
        "def minimax(board, depth, is_maximizing):\n",
        "    global NODES_EXPANDED_MM\n",
        "    NODES_EXPANDED_MM += 1\n",
        "\n",
        "    score = evaluate(board)\n",
        "    if score == 1 or score == -1 or is_full(board):\n",
        "        return score\n",
        "\n",
        "    if is_maximizing:\n",
        "        best_value = -float('inf')\n",
        "        best_move = None\n",
        "        for i in range(9):\n",
        "            if board[i] == EMPTY:\n",
        "                board[i] = PLAYER_X\n",
        "                value = minimax(board, depth + 1, False)\n",
        "                board[i] = EMPTY\n",
        "                if value > best_value:\n",
        "                    best_value = value\n",
        "                    best_move = i\n",
        "        if depth == 0:\n",
        "            return best_move\n",
        "        return best_value\n",
        "    else:\n",
        "        best_value = float('inf')\n",
        "        best_move = None\n",
        "        for i in range(9):\n",
        "            if board[i] == EMPTY:\n",
        "                board[i] = PLAYER_O\n",
        "                value = minimax(board, depth + 1, True)\n",
        "                board[i] = EMPTY\n",
        "                if value < best_value:\n",
        "                    best_value = value\n",
        "                    best_move = i\n",
        "        if depth == 0:\n",
        "            return best_move\n",
        "        return best_value"
      ]
    },
    {
      "cell_type": "code",
      "execution_count": null,
      "metadata": {
        "id": "0o7wbp9iDAH8"
      },
      "outputs": [],
      "source": [
        "# Alpha-Beta pruning\n",
        "def alpha_beta(board, depth, alpha, beta, is_maximizing):\n",
        "    global NODES_EXPANDED_AB\n",
        "    NODES_EXPANDED_AB += 1\n",
        "\n",
        "    score = evaluate(board)\n",
        "    if score == 1 or score == -1 or is_full(board):\n",
        "        return score\n",
        "\n",
        "    best_value = -float('inf') if is_maximizing else float('inf')\n",
        "    best_move = None\n",
        "\n",
        "    for i in range(9):\n",
        "        if board[i] == EMPTY:\n",
        "            board[i] = PLAYER_X if is_maximizing else PLAYER_O\n",
        "            value = alpha_beta(board, depth + 1, alpha, beta, not is_maximizing)\n",
        "            board[i] = EMPTY\n",
        "\n",
        "            if is_maximizing:\n",
        "                if value > best_value:\n",
        "                    best_value = value\n",
        "                    best_move = i\n",
        "                alpha = max(alpha, best_value)\n",
        "            else:\n",
        "                if value < best_value:\n",
        "                    best_value = value\n",
        "                    best_move = i\n",
        "                beta = min(beta, best_value)\n",
        "\n",
        "            if beta <= alpha:\n",
        "                break\n",
        "\n",
        "    if depth == 0:\n",
        "        return best_move  # Return the best move for the initial call\n",
        "    return best_value"
      ]
    },
    {
      "cell_type": "code",
      "execution_count": null,
      "metadata": {
        "id": "fCwP5a1DDCXy"
      },
      "outputs": [],
      "source": [
        "\n",
        "# Comparison function\n",
        "def compare_algorithms():\n",
        "    board = create_board()\n",
        "\n",
        "    # Regular Minimax\n",
        "    start_time_mm = time.time()\n",
        "    best_move_mm = minimax(board, 0, True)\n",
        "    end_time_mm = time.time()\n",
        "\n",
        "    # Alpha-Beta\n",
        "    start_time_ab = time.time()\n",
        "    best_move_ab = alpha_beta(board, 0, -float('inf'), float('inf'), True)\n",
        "    end_time_ab = time.time()\n",
        "\n",
        "    print(\"Regular Minimax:\")\n",
        "    print(f\"Time taken: {end_time_mm - start_time_mm:.6f} seconds\")\n",
        "    print(f\"Nodes expanded: {NODES_EXPANDED_MM}\")\n",
        "    print(f\"Best Move: {best_move_mm}\")\n",
        "\n",
        "    print(\"\\nAlpha-Beta Pruning:\")\n",
        "    print(f\"Time taken: {end_time_ab - start_time_ab:.6f} seconds\")\n",
        "    print(f\"Nodes expanded: {NODES_EXPANDED_AB}\")\n",
        "    print(f\"Best Move: {best_move_ab}\")"
      ]
    },
    {
      "cell_type": "code",
      "execution_count": null,
      "metadata": {
        "colab": {
          "base_uri": "https://localhost:8080/"
        },
        "id": "Y2waBIEoDENa",
        "outputId": "2711aa4e-8b46-4f62-d570-a72036a26a98"
      },
      "outputs": [
        {
          "name": "stdout",
          "output_type": "stream",
          "text": [
            "Regular Minimax:\n",
            "Time taken: 4.924145 seconds\n",
            "Nodes expanded: 549946\n",
            "Best Move: 0\n",
            "\n",
            "Alpha-Beta Pruning:\n",
            "Time taken: 0.172407 seconds\n",
            "Nodes expanded: 18297\n",
            "Best Move: 0\n"
          ]
        }
      ],
      "source": [
        "# Run the comparison\n",
        "compare_algorithms()"
      ]
    },
    {
      "cell_type": "markdown",
      "metadata": {
        "id": "shu6l377Gfrz"
      },
      "source": [
        "## Connect Four"
      ]
    },
    {
      "cell_type": "markdown",
      "metadata": {
        "id": "YtewMyYDZiJF"
      },
      "source": [
        "### Code"
      ]
    },
    {
      "cell_type": "code",
      "execution_count": null,
      "metadata": {
        "id": "yD1kMFl4GfM0"
      },
      "outputs": [],
      "source": [
        "# Constants\n",
        "ROW_COUNT = 6\n",
        "COLUMN_COUNT = 7\n",
        "PLAYER_1 = 1  # Max player\n",
        "PLAYER_2 = -1  # Min player\n",
        "EMPTY = 0\n",
        "\n",
        "# Create the Connect Four board\n",
        "def create_board():\n",
        "    return np.zeros((ROW_COUNT, COLUMN_COUNT))\n",
        "\n",
        "# Drop a piece into the board\n",
        "def drop_piece(board, row, col, piece):\n",
        "    board[row][col] = piece\n",
        "\n",
        "# Check if a column is valid for a move\n",
        "def is_valid_location(board, col):\n",
        "    return board[ROW_COUNT-1][col] == 0\n",
        "\n",
        "# Get the next open row in a column\n",
        "def get_next_open_row(board, col):\n",
        "    for r in range(ROW_COUNT):\n",
        "        if board[r][col] == 0:\n",
        "            return r\n",
        "\n",
        "# Print the board (flipped to see from the bottom)\n",
        "def print_board(board):\n",
        "    print(np.flip(board, 0))\n",
        "\n",
        "# Check if the board is full\n",
        "def is_full(board):\n",
        "    return all(board[ROW_COUNT-1][c] != 0 for c in range(COLUMN_COUNT))\n",
        "\n",
        "# Check if there is a winning move\n",
        "def winning_move(board, piece):\n",
        "    # Check horizontal locations for win\n",
        "    for c in range(COLUMN_COUNT-3):\n",
        "        for r in range(ROW_COUNT):\n",
        "            if board[r][c] == piece and board[r][c+1] == piece and board[r][c+2] == piece and board[r][c+3] == piece:\n",
        "                return True\n",
        "\n",
        "    # Check vertical locations for win\n",
        "    for c in range(COLUMN_COUNT):\n",
        "        for r in range(ROW_COUNT-3):\n",
        "            if board[r][c] == piece and board[r+1][c] == piece and board[r+2][c] == piece and board[r+3][c] == piece:\n",
        "                return True\n",
        "\n",
        "    # Check positively sloped diagonals\n",
        "    for c in range(COLUMN_COUNT-3):\n",
        "        for r in range(ROW_COUNT-3):\n",
        "            if board[r][c] == piece and board[r+1][c+1] == piece and board[r+2][c+2] == piece and board[r+3][c+3] == piece:\n",
        "                return True\n",
        "\n",
        "    # Check negatively sloped diagonals\n",
        "    for c in range(COLUMN_COUNT-3):\n",
        "        for r in range(3, ROW_COUNT):\n",
        "            if board[r][c] == piece and board[r-1][c+1] == piece and board[r-2][c+2] == piece and board[r-3][c+3] == piece:\n",
        "                return True\n",
        "\n",
        "    return False\n",
        "\n",
        "# Evaluate the board\n",
        "def evaluate_window(window, piece):\n",
        "    score = 0\n",
        "    opp_piece = PLAYER_1 if piece == PLAYER_2 else PLAYER_2\n",
        "\n",
        "    if window.count(piece) == 4:\n",
        "        score += 100\n",
        "    elif window.count(piece) == 3 and window.count(EMPTY) == 1:\n",
        "        score += 5\n",
        "    elif window.count(piece) == 2 and window.count(EMPTY) == 2:\n",
        "        score += 2\n",
        "\n",
        "    if window.count(opp_piece) == 3 and window.count(EMPTY) == 1:\n",
        "        score -= 4\n",
        "\n",
        "    return score\n",
        "\n",
        "def score_position(board, piece):\n",
        "    score = 0\n",
        "\n",
        "    # Score center column\n",
        "    center_array = [int(i) for i in list(board[:, COLUMN_COUNT//2])]\n",
        "    center_count = center_array.count(piece)\n",
        "    score += center_count * 3\n",
        "\n",
        "    # Score Horizontal\n",
        "    for r in range(ROW_COUNT):\n",
        "        row_array = [int(i) for i in list(board[r,:])]\n",
        "        for c in range(COLUMN_COUNT-3):\n",
        "            window = row_array[c:c+4]\n",
        "            score += evaluate_window(window, piece)\n",
        "\n",
        "    # Score Vertical\n",
        "    for c in range(COLUMN_COUNT):\n",
        "        col_array = [int(i) for i in list(board[:,c])]\n",
        "        for r in range(ROW_COUNT-3):\n",
        "            window = col_array[r:r+4]\n",
        "            score += evaluate_window(window, piece)\n",
        "\n",
        "    # Score positively sloped diagonal\n",
        "    for r in range(ROW_COUNT-3):\n",
        "        for c in range(COLUMN_COUNT-3):\n",
        "            window = [board[r+i][c+i] for i in range(4)]\n",
        "            score += evaluate_window(window, piece)\n",
        "\n",
        "    # Score negatively sloped diagonal\n",
        "    for r in range(ROW_COUNT-3):\n",
        "        for c in range(COLUMN_COUNT-3):\n",
        "            window = [board[r+3-i][c+i] for i in range(4)]\n",
        "            score += evaluate_window(window, piece)\n",
        "\n",
        "    return score"
      ]
    },
    {
      "cell_type": "code",
      "execution_count": null,
      "metadata": {
        "id": "xpdBpXkuGxcA"
      },
      "outputs": [],
      "source": [
        "# Minimax algorithm\n",
        "def minimax(board, depth, maximizingPlayer):\n",
        "    global NODES_EXPANDED_MM\n",
        "    NODES_EXPANDED_MM += 1\n",
        "\n",
        "    valid_locations = [c for c in range(COLUMN_COUNT) if is_valid_location(board, c)]\n",
        "    is_terminal = winning_move(board, PLAYER_1) or winning_move(board, PLAYER_2) or is_full(board)\n",
        "\n",
        "    if depth == 0 or is_terminal:\n",
        "        if is_terminal:\n",
        "            if winning_move(board, PLAYER_1):\n",
        "                return (None, 100000000000000)\n",
        "            elif winning_move(board, PLAYER_2):\n",
        "                return (None, -10000000000000)\n",
        "            else: # Game is over, no more valid moves\n",
        "                return (None, 0)\n",
        "        else: # Depth is zero\n",
        "            return (None, score_position(board, PLAYER_1))\n",
        "\n",
        "    if maximizingPlayer:\n",
        "        value = -math.inf\n",
        "        best_col = np.random.choice(valid_locations)\n",
        "        for col in valid_locations:\n",
        "            row = get_next_open_row(board, col)\n",
        "            b_copy = board.copy()\n",
        "            drop_piece(b_copy, row, col, PLAYER_1)\n",
        "            new_score = minimax(b_copy, depth-1, False)[1]\n",
        "            if new_score > value:\n",
        "                value = new_score\n",
        "                best_col = col\n",
        "        return best_col, value\n",
        "\n",
        "    else:  # Minimizing player\n",
        "        value = math.inf\n",
        "        best_col = np.random.choice(valid_locations)\n",
        "        for col in valid_locations:\n",
        "            row = get_next_open_row(board, col)\n",
        "            b_copy = board.copy()\n",
        "            drop_piece(b_copy, row, col, PLAYER_2)\n",
        "            new_score = minimax(b_copy, depth-1, True)[1]\n",
        "            if new_score < value:\n",
        "                value = new_score\n",
        "                best_col = col\n",
        "        return best_col, value"
      ]
    },
    {
      "cell_type": "code",
      "execution_count": null,
      "metadata": {
        "id": "Ubb6VCQ5G2dy"
      },
      "outputs": [],
      "source": [
        "# Alpha-Beta pruning\n",
        "def alpha_beta(board, depth, alpha, beta, maximizingPlayer):\n",
        "    global NODES_EXPANDED_AB\n",
        "    NODES_EXPANDED_AB += 1\n",
        "\n",
        "    valid_locations = [c for c in range(COLUMN_COUNT) if is_valid_location(board, c)]\n",
        "    is_terminal = winning_move(board, PLAYER_1) or winning_move(board, PLAYER_2) or is_full(board)\n",
        "\n",
        "    if depth == 0 or is_terminal:\n",
        "        if is_terminal:\n",
        "            if winning_move(board, PLAYER_1):\n",
        "                return (None, 100000000000000)\n",
        "            elif winning_move(board, PLAYER_2):\n",
        "                return (None, -10000000000000)\n",
        "            else:  # Game is over, no more valid moves\n",
        "                return (None, 0)\n",
        "        else:  # Depth is zero\n",
        "            return (None, score_position(board, PLAYER_1))\n",
        "\n",
        "    if maximizingPlayer:\n",
        "        value = -math.inf\n",
        "        best_col = np.random.choice(valid_locations)\n",
        "        for col in valid_locations:\n",
        "            row = get_next_open_row(board, col)\n",
        "            b_copy = board.copy()\n",
        "            drop_piece(b_copy, row, col, PLAYER_1)\n",
        "            new_score = alpha_beta(b_copy, depth-1, alpha, beta, False)[1]\n",
        "            if new_score > value:\n",
        "                value = new_score\n",
        "                best_col = col\n",
        "            alpha = max(alpha, value)\n",
        "            if alpha >= beta:\n",
        "                break\n",
        "        return best_col, value\n",
        "\n",
        "    else:  # Minimizing player\n",
        "        value = math.inf\n",
        "        best_col = np.random.choice(valid_locations)\n",
        "        for col in valid_locations:\n",
        "            row = get_next_open_row(board, col)\n",
        "            b_copy = board.copy()\n",
        "            drop_piece(b_copy, row, col, PLAYER_2)\n",
        "            new_score = alpha_beta(b_copy, depth-1, alpha, beta, True)[1]\n",
        "            if new_score < value:\n",
        "                value = new_score\n",
        "                best_col = col\n",
        "            beta = min(beta, value)\n",
        "            if alpha >= beta:\n",
        "                break\n",
        "        return best_col, value"
      ]
    },
    {
      "cell_type": "code",
      "execution_count": null,
      "metadata": {
        "id": "ZBVvN_msG7n-"
      },
      "outputs": [],
      "source": [
        "# Comparison function\n",
        "def compare_algorithms(depth):\n",
        "    board = create_board()\n",
        "\n",
        "    # Run Minimax\n",
        "    global NODES_EXPANDED_MM\n",
        "    NODES_EXPANDED_MM = 0\n",
        "    start_time_mm = time.time()\n",
        "    best_move_mm, minimax_score = minimax(board, depth, True)\n",
        "    end_time_mm = time.time()\n",
        "\n",
        "    # Run Alpha-Beta Pruning\n",
        "    global NODES_EXPANDED_AB\n",
        "    NODES_EXPANDED_AB = 0\n",
        "    start_time_ab = time.time()\n",
        "    best_move_ab, alphabeta_score = alpha_beta(board, depth, -math.inf, math.inf, True)\n",
        "    end_time_ab = time.time()\n",
        "\n",
        "    print(\"Minimax:\")\n",
        "    print(f\"Best column: {best_move_mm}\")\n",
        "    print(f\"Score: {minimax_score}\")\n",
        "    print(f\"Time taken: {end_time_mm - start_time_mm:.6f} seconds\")\n",
        "    print(f\"Nodes expanded: {NODES_EXPANDED_MM}\")\n",
        "\n",
        "    print(\"\\nAlpha-Beta Pruning:\")\n",
        "    print(f\"Best column: {best_move_ab}\")\n",
        "    print(f\"Score: {alphabeta_score}\")\n",
        "    print(f\"Time taken: {end_time_ab - start_time_ab:.6f} seconds\")\n",
        "    print(f\"Nodes expanded: {NODES_EXPANDED_AB}\")"
      ]
    },
    {
      "cell_type": "markdown",
      "metadata": {
        "id": "KaV0SGdNZlwy"
      },
      "source": [
        "### Results"
      ]
    },
    {
      "cell_type": "code",
      "execution_count": null,
      "metadata": {
        "colab": {
          "base_uri": "https://localhost:8080/"
        },
        "id": "AWomv3zGzlTX",
        "outputId": "1db9d94c-1d44-4f58-e83c-39511a5099ff"
      },
      "outputs": [
        {
          "name": "stdout",
          "output_type": "stream",
          "text": [
            "Minimax:\n",
            "Best column: 3\n",
            "Score: 6\n",
            "Time taken: 0.677690 seconds\n",
            "Nodes expanded: 2801\n",
            "\n",
            "Alpha-Beta Pruning:\n",
            "Best column: 3\n",
            "Score: 6\n",
            "Time taken: 0.092911 seconds\n",
            "Nodes expanded: 419\n"
          ]
        }
      ],
      "source": [
        "# Run the comparison\n",
        "compare_algorithms(4)"
      ]
    },
    {
      "cell_type": "code",
      "execution_count": null,
      "metadata": {
        "colab": {
          "base_uri": "https://localhost:8080/"
        },
        "id": "MytDoA91G-FZ",
        "outputId": "a3de841d-5b39-48da-a0e3-737abd37adaa"
      },
      "outputs": [
        {
          "name": "stdout",
          "output_type": "stream",
          "text": [
            "Minimax:\n",
            "Best column: 3\n",
            "Score: 12\n",
            "Time taken: 5.783521 seconds\n",
            "Nodes expanded: 19608\n",
            "\n",
            "Alpha-Beta Pruning:\n",
            "Best column: 3\n",
            "Score: 12\n",
            "Time taken: 0.683147 seconds\n",
            "Nodes expanded: 2988\n"
          ]
        }
      ],
      "source": [
        "compare_algorithms(5)"
      ]
    },
    {
      "cell_type": "code",
      "execution_count": null,
      "metadata": {
        "colab": {
          "base_uri": "https://localhost:8080/"
        },
        "id": "dRBZE1Qs6M62",
        "outputId": "737f835a-28bf-46f8-bf53-7fa35b918704"
      },
      "outputs": [
        {
          "name": "stdout",
          "output_type": "stream",
          "text": [
            "Minimax:\n",
            "Best column: 3\n",
            "Score: 9\n",
            "Time taken: 35.674448 seconds\n",
            "Nodes expanded: 137257\n",
            "\n",
            "Alpha-Beta Pruning:\n",
            "Best column: 3\n",
            "Score: 9\n",
            "Time taken: 2.067276 seconds\n",
            "Nodes expanded: 9624\n"
          ]
        }
      ],
      "source": [
        "compare_algorithms(6)"
      ]
    },
    {
      "cell_type": "code",
      "execution_count": null,
      "metadata": {
        "colab": {
          "base_uri": "https://localhost:8080/"
        },
        "id": "gFXyLblT62zQ",
        "outputId": "d149cdd5-f389-4841-9e09-a47bc40b2e76"
      },
      "outputs": [
        {
          "name": "stdout",
          "output_type": "stream",
          "text": [
            "Minimax:\n",
            "Best column: 3\n",
            "Score: 15\n",
            "Time taken: 247.833788 seconds\n",
            "Nodes expanded: 960793\n",
            "\n",
            "Alpha-Beta Pruning:\n",
            "Best column: 3\n",
            "Score: 15\n",
            "Time taken: 11.114266 seconds\n",
            "Nodes expanded: 46345\n"
          ]
        }
      ],
      "source": [
        "compare_algorithms(7)"
      ]
    },
    {
      "cell_type": "code",
      "execution_count": null,
      "metadata": {
        "colab": {
          "base_uri": "https://localhost:8080/"
        },
        "id": "EOptsKCN7D5e",
        "outputId": "e5541099-a542-43c6-efca-2dbf0da7b644"
      },
      "outputs": [
        {
          "name": "stdout",
          "output_type": "stream",
          "text": [
            "Minimax:\n",
            "Best column: 3\n",
            "Score: 12\n",
            "Time taken: 1734.089763 seconds\n",
            "Nodes expanded: 6634027\n",
            "\n",
            "Alpha-Beta Pruning:\n",
            "Best column: 3\n",
            "Score: 12\n",
            "Time taken: 35.245733 seconds\n",
            "Nodes expanded: 149614\n"
          ]
        }
      ],
      "source": [
        "compare_algorithms(8)"
      ]
    }
  ],
  "metadata": {
    "colab": {
      "provenance": []
    },
    "kernelspec": {
      "display_name": "Python 3",
      "name": "python3"
    },
    "language_info": {
      "name": "python"
    }
  },
  "nbformat": 4,
  "nbformat_minor": 0
}
